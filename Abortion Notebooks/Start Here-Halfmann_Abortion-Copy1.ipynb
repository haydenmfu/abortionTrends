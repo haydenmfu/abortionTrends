{
 "cells": [
  {
   "cell_type": "markdown",
   "metadata": {},
   "source": [
    "# Welcome to TDM Studio #"
   ]
  },
  {
   "cell_type": "markdown",
   "metadata": {},
   "source": [
    "Welcome to ProQuest's Text and Data Mining (TDM) Studio! This guide will take you through transferring your first corpus to your Jupyter Notebook. \n",
    "\n",
    "If you have not already done so, please generate your first dataset using our user interface - found by clicking the `+Create New Dataset` button on the dashboard of TDM Studio. If you have already navigated away from your dashboard, you can access your workbench dashboard by typing the following link in your browsers address bar:\n",
    "\n",
    "https://tdmstudio.proquest.com/workbenchdashboard"
   ]
  },
  {
   "cell_type": "markdown",
   "metadata": {},
   "source": [
    "After selecting the publications you would like to use for your data, as well as inputting your search query, please wait for the dataset to finish querying. The `Status` column will switch to `Complete` once your dataset is completed."
   ]
  },
  {
   "cell_type": "markdown",
   "metadata": {},
   "source": [
    "The following code cells will set up a simple GUI for you to visually select the datasets that you have created through the dataset creation GUI. Please run them every time you create a new dataset, so that the selection options will update."
   ]
  },
  {
   "cell_type": "markdown",
   "metadata": {},
   "source": [
    "## Step 1 - Name Your Dataset (Local) ##\n",
    "Please replace the value associated with the variable `dataset_name` to the name you would like your dataset to appear as in your workbench. Please avoid any spaces in your dataset name - you can replace any spaces in your name with an underscore (`_`)."
   ]
  },
  {
   "cell_type": "code",
   "execution_count": 1,
   "metadata": {},
   "outputs": [],
   "source": [
    "# datset_name = input(\"putnamehere\")\n",
    "dataset_name = 'Halfmann_Abortion' # Name of your dataset"
   ]
  },
  {
   "cell_type": "markdown",
   "metadata": {},
   "source": [
    "## Step 2 - Select Your Dataset ##\n",
    "Please select from the dropdown menu that appears after running the following cell."
   ]
  },
  {
   "cell_type": "code",
   "execution_count": 2,
   "metadata": {},
   "outputs": [
    {
     "data": {
      "application/vnd.jupyter.widget-view+json": {
       "model_id": "35429b583fe14b7ebe093b4d34c77851",
       "version_major": 2,
       "version_minor": 0
      },
      "text/plain": [
       "Dropdown(description='Datasets:', options=('HalfmannADHD', 'HalfmannAbortion', 'PoliticalnewsApril91865toDec31…"
      ]
     },
     "metadata": {},
     "output_type": "display_data"
    }
   ],
   "source": [
    "import ipywidgets as widgets\n",
    "import boto3\n",
    "\n",
    "# We start a boto3 client that interacts with ProQuest's servers\n",
    "s3 = boto3.client('s3')\n",
    "bucket = 'pq-tdm-studio'\n",
    "prefix = 'tdm-ale-data/232/corpus/'\n",
    "response = s3.list_objects_v2(\n",
    "    Bucket=bucket,\n",
    "    Prefix=prefix,\n",
    "    Delimiter='/')\n",
    "\n",
    "# Getting your datasets\n",
    "datasets = []\n",
    "for CommonPrefix in response.get('CommonPrefixes'):\n",
    "    dataset = CommonPrefix['Prefix'].replace(prefix, '').replace('/', '')\n",
    "    datasets.append(dataset)\n",
    "    \n",
    "#Displaying your datasets in a dropdown\n",
    "select = widgets.Dropdown(\n",
    "    options = datasets,\n",
    "    description = 'Datasets:'\n",
    ")\n",
    "display(select)\n",
    "\n",
    "# Please select the dataset you want to transfer in the dropdown below"
   ]
  },
  {
   "cell_type": "markdown",
   "metadata": {},
   "source": [
    "## Step 3 - Transfer Your Data ##\n",
    "To transfer the data onto your notebook, please run the following command, and wait for it to finish. You will be able to find your data under `/data/dataset_name`, with `dataset_name` being the name of the dataset you transferred."
   ]
  },
  {
   "cell_type": "code",
   "execution_count": 3,
   "metadata": {},
   "outputs": [],
   "source": [
    "URL_of_dataset = prefix + select.value"
   ]
  },
  {
   "cell_type": "code",
   "execution_count": 4,
   "metadata": {},
   "outputs": [
    {
     "data": {
      "text/plain": [
       "'tdm-ale-data/232/corpus/HalfmannADHD'"
      ]
     },
     "execution_count": 4,
     "metadata": {},
     "output_type": "execute_result"
    }
   ],
   "source": [
    "URL_of_dataset"
   ]
  },
  {
   "cell_type": "code",
   "execution_count": 4,
   "metadata": {},
   "outputs": [],
   "source": [
    "%%capture\n",
    "!aws s3 cp --recursive s3://pq-tdm-studio/$URL_of_dataset/ data/$dataset_name"
   ]
  },
  {
   "cell_type": "markdown",
   "metadata": {},
   "source": [
    "Once your data has been transferred, feel free to repurpose the commands found in this notebook to transfer more datasets you create! You can also navigate to the folder named `ProQuest TDM Studio Examples` to find sample scripts in which to interact with your data. Our manual and more detailed instructions/guides can be found under the folder `ProQuest TDM Studio Manual`."
   ]
  }
 ],
 "metadata": {
  "kernelspec": {
   "display_name": "conda_python3",
   "language": "python",
   "name": "conda_python3"
  },
  "language_info": {
   "codemirror_mode": {
    "name": "ipython",
    "version": 3
   },
   "file_extension": ".py",
   "mimetype": "text/x-python",
   "name": "python",
   "nbconvert_exporter": "python",
   "pygments_lexer": "ipython3",
   "version": "3.6.13"
  }
 },
 "nbformat": 4,
 "nbformat_minor": 4
}
